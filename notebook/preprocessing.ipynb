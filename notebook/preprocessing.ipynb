{
 "cells": [
  {
   "cell_type": "code",
   "execution_count": 1,
   "id": "c236d646-2bdc-45b7-acb9-f5e584658352",
   "metadata": {},
   "outputs": [
    {
     "ename": "ModuleNotFoundError",
     "evalue": "No module named 'cv2'",
     "output_type": "error",
     "traceback": [
      "\u001b[1;31m---------------------------------------------------------------------------\u001b[0m",
      "\u001b[1;31mModuleNotFoundError\u001b[0m                       Traceback (most recent call last)",
      "Cell \u001b[1;32mIn[1], line 2\u001b[0m\n\u001b[0;32m      1\u001b[0m \u001b[38;5;66;03m#imports\u001b[39;00m\n\u001b[1;32m----> 2\u001b[0m \u001b[38;5;28;01mimport\u001b[39;00m \u001b[38;5;21;01mcv2\u001b[39;00m\n\u001b[0;32m      3\u001b[0m \u001b[38;5;28;01mimport\u001b[39;00m \u001b[38;5;21;01mnumpy\u001b[39;00m \u001b[38;5;28;01mas\u001b[39;00m \u001b[38;5;21;01mnp\u001b[39;00m\n\u001b[0;32m      4\u001b[0m \u001b[38;5;28;01mimport\u001b[39;00m \u001b[38;5;21;01mmatplotlib\u001b[39;00m\u001b[38;5;21;01m.\u001b[39;00m\u001b[38;5;21;01mpyplot\u001b[39;00m \u001b[38;5;28;01mas\u001b[39;00m \u001b[38;5;21;01mplt\u001b[39;00m\n",
      "\u001b[1;31mModuleNotFoundError\u001b[0m: No module named 'cv2'"
     ]
    }
   ],
   "source": [
    "#imports\n",
    "import cv2\n",
    "import numpy as np\n",
    "import matplotlib.pyplot as plt\n"
   ]
  },
  {
   "cell_type": "code",
   "execution_count": 2,
   "id": "7639ea76-c80d-4fb6-bc8a-fbdf813cb88a",
   "metadata": {},
   "outputs": [],
   "source": [
    "\n",
    "# Function to preprocess the image\n",
    "def preprocess_image(image_path):\n",
    "    # Read the image\n",
    "    image = cv2.imread(image_path)\n",
    "    # Convert to grayscale\n",
    "    gray = cv2.cvtColor(image, cv2.COLOR_BGR2GRAY)\n",
    "    # Resize to standard 8x8 board if necessary\n",
    "    resized = cv2.resize(gray, (400, 400))  # Example size, adjust as needed\n",
    "    return resized\n"
   ]
  },
  {
   "cell_type": "code",
   "execution_count": 3,
   "id": "59d2907e-d5f2-4cfb-b4a5-1a7463261b3d",
   "metadata": {},
   "outputs": [],
   "source": [
    "# Function to segment the board into 8x8 grid\n",
    "def segment_board(image):\n",
    "    board_array = []\n",
    "    square_size = image.shape[0] // 8  # Assuming an 8x8 square board\n",
    "\n",
    "    fig, axs = plt.subplots(8, 8, figsize=(8, 8))  # Create an 8x8 grid of subplots\n",
    "\n",
    "    # Loop through each square\n",
    "    for row in range(8):\n",
    "        row_data = []\n",
    "        for col in range(8):\n",
    "            # Extract the square image\n",
    "            square = image[row * square_size:(row + 1) * square_size, \n",
    "                           col * square_size:(col + 1) * square_size]\n",
    "\n",
    "            # Resize each square image for better display\n",
    "            square_resized = cv2.resize(square, (50, 50))\n",
    "\n",
    "            # Display the square on the grid\n",
    "            axs[row, col].imshow(square_resized, cmap='gray')  # Display as grayscale\n",
    "            axs[row, col].axis('off')  # Hide axes for a cleaner look\n",
    "\n",
    "            # Placeholder: Predict the piece in the square (if any)\n",
    "            piece = classify_square(square_resized)\n",
    "            row_data.append(piece)\n",
    "        board_array.append(row_data)\n",
    "\n",
    "    plt.subplots_adjust(wspace=0, hspace=0)  # Remove space between images\n",
    "    plt.show()\n",
    "    return board_array\n",
    "\n",
    "\n",
    "\n"
   ]
  },
  {
   "cell_type": "code",
   "execution_count": 4,
   "id": "50292fa5-43d6-4171-a1d7-78733067a0c3",
   "metadata": {},
   "outputs": [],
   "source": [
    "# Function to classify a square using the trained model\n",
    "def classify_square(square_image):\n",
    "    # Preprocess the image (resize and normalize)\n",
    "    square_image = cv2.resize(square_image, (50, 50))  # Resize to match the model input\n",
    "    square_image = square_image / 255.0                # Normalize pixel values\n",
    "    square_image = np.expand_dims(square_image, axis=-1)  # Add channel dimension for grayscale\n",
    "    square_image = np.expand_dims(square_image, axis=0)   # Add batch dimension\n",
    "\n",
    "    # Predict the piece type\n",
    "    prediction = model.predict(square_image)\n",
    "    predicted_class = np.argmax(prediction)\n",
    "    return piece_labels[predicted_class]\n",
    "\n"
   ]
  },
  {
   "cell_type": "code",
   "execution_count": 5,
   "id": "4ba69551-2107-42af-ae9f-9d920a6bad43",
   "metadata": {},
   "outputs": [],
   "source": [
    "# Main function to convert an image into a board array\n",
    "def convert_image_to_array(image_path):\n",
    "    # Preprocess and segment the board\n",
    "    processed_image = preprocess_image(image_path)\n",
    "    board_array = segment_board(processed_image)\n",
    "    \n",
    "    # Optional: Flatten the array if needed for your model\n",
    "    flattened_board_array = [piece for row in board_array for piece in row]\n",
    "    \n",
    "    return flattened_board_array\n"
   ]
  },
  {
   "cell_type": "code",
   "execution_count": 6,
   "id": "b43699cd-124a-4a3b-b00d-47c8b5a7f278",
   "metadata": {
    "scrolled": true
   },
   "outputs": [
    {
     "ename": "NameError",
     "evalue": "name 'cv2' is not defined",
     "output_type": "error",
     "traceback": [
      "\u001b[1;31m---------------------------------------------------------------------------\u001b[0m",
      "\u001b[1;31mNameError\u001b[0m                                 Traceback (most recent call last)",
      "Cell \u001b[1;32mIn[6], line 2\u001b[0m\n\u001b[0;32m      1\u001b[0m image_path \u001b[38;5;241m=\u001b[39m \u001b[38;5;124mr\u001b[39m\u001b[38;5;124m'\u001b[39m\u001b[38;5;124mC:\u001b[39m\u001b[38;5;124m\\\u001b[39m\u001b[38;5;124mUsers\u001b[39m\u001b[38;5;124m\\\u001b[39m\u001b[38;5;124mNishant Mohan\u001b[39m\u001b[38;5;124m\\\u001b[39m\u001b[38;5;124mDesktop\u001b[39m\u001b[38;5;124m\\\u001b[39m\u001b[38;5;124miLLogical\u001b[39m\u001b[38;5;124m\\\u001b[39m\u001b[38;5;124mData\u001b[39m\u001b[38;5;124m\\\u001b[39m\u001b[38;5;124mtrain\u001b[39m\u001b[38;5;124m\\\u001b[39m\u001b[38;5;124m11161.png\u001b[39m\u001b[38;5;124m'\u001b[39m\n\u001b[1;32m----> 2\u001b[0m board_array \u001b[38;5;241m=\u001b[39m \u001b[43mconvert_image_to_array\u001b[49m\u001b[43m(\u001b[49m\u001b[43mimage_path\u001b[49m\u001b[43m)\u001b[49m\n\u001b[0;32m      4\u001b[0m \u001b[38;5;28mprint\u001b[39m(\u001b[38;5;124m\"\u001b[39m\u001b[38;5;124mBoard Position Array:\u001b[39m\u001b[38;5;124m\"\u001b[39m)\n\u001b[0;32m      5\u001b[0m \u001b[38;5;28;01mfor\u001b[39;00m row \u001b[38;5;129;01min\u001b[39;00m board_array:\n",
      "Cell \u001b[1;32mIn[5], line 4\u001b[0m, in \u001b[0;36mconvert_image_to_array\u001b[1;34m(image_path)\u001b[0m\n\u001b[0;32m      2\u001b[0m \u001b[38;5;28;01mdef\u001b[39;00m \u001b[38;5;21mconvert_image_to_array\u001b[39m(image_path):\n\u001b[0;32m      3\u001b[0m     \u001b[38;5;66;03m# Preprocess and segment the board\u001b[39;00m\n\u001b[1;32m----> 4\u001b[0m     processed_image \u001b[38;5;241m=\u001b[39m \u001b[43mpreprocess_image\u001b[49m\u001b[43m(\u001b[49m\u001b[43mimage_path\u001b[49m\u001b[43m)\u001b[49m\n\u001b[0;32m      5\u001b[0m     board_array \u001b[38;5;241m=\u001b[39m segment_board(processed_image)\n\u001b[0;32m      7\u001b[0m     \u001b[38;5;66;03m# Optional: Flatten the array if needed for your model\u001b[39;00m\n",
      "Cell \u001b[1;32mIn[2], line 4\u001b[0m, in \u001b[0;36mpreprocess_image\u001b[1;34m(image_path)\u001b[0m\n\u001b[0;32m      2\u001b[0m \u001b[38;5;28;01mdef\u001b[39;00m \u001b[38;5;21mpreprocess_image\u001b[39m(image_path):\n\u001b[0;32m      3\u001b[0m     \u001b[38;5;66;03m# Read the image\u001b[39;00m\n\u001b[1;32m----> 4\u001b[0m     image \u001b[38;5;241m=\u001b[39m \u001b[43mcv2\u001b[49m\u001b[38;5;241m.\u001b[39mimread(image_path)\n\u001b[0;32m      5\u001b[0m     \u001b[38;5;66;03m# Convert to grayscale\u001b[39;00m\n\u001b[0;32m      6\u001b[0m     gray \u001b[38;5;241m=\u001b[39m cv2\u001b[38;5;241m.\u001b[39mcvtColor(image, cv2\u001b[38;5;241m.\u001b[39mCOLOR_BGR2GRAY)\n",
      "\u001b[1;31mNameError\u001b[0m: name 'cv2' is not defined"
     ]
    }
   ],
   "source": [
    "image_path = r'C:\\Users\\Nishant Mohan\\Desktop\\iLLogical\\Data\\train\\11161.png'\n",
    "board_array = convert_image_to_array(image_path)\n",
    "\n",
    "print(\"Board Position Array:\")\n",
    "for row in board_array:\n",
    "    print(row)\n"
   ]
  },
  {
   "cell_type": "code",
   "execution_count": null,
   "id": "6fe2d859-ca0f-468a-b167-11982e11c563",
   "metadata": {},
   "outputs": [],
   "source": []
  }
 ],
 "metadata": {
  "kernelspec": {
   "display_name": "Python 3 (ipykernel)",
   "language": "python",
   "name": "python3"
  },
  "language_info": {
   "codemirror_mode": {
    "name": "ipython",
    "version": 3
   },
   "file_extension": ".py",
   "mimetype": "text/x-python",
   "name": "python",
   "nbconvert_exporter": "python",
   "pygments_lexer": "ipython3",
   "version": "3.11.4"
  }
 },
 "nbformat": 4,
 "nbformat_minor": 5
}
